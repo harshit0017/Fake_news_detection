{
  "cells": [
    {
      "attachments": {},
      "cell_type": "markdown",
      "metadata": {},
      "source": [
        "<div><font size=\"4\"><center><b>Dataset: ds2</b></center></font></div>"
      ]
    },
    {
      "cell_type": "code",
      "execution_count": 9,
      "metadata": {
        "id": "PxsGcI2G07Lz"
      },
      "outputs": [],
      "source": [
        "import pandas as pd\n",
        "from scipy import stats"
      ]
    },
    {
      "cell_type": "code",
      "execution_count": 2,
      "metadata": {
        "id": "QG2Q6F6HyYJH"
      },
      "outputs": [],
      "source": [
        "import numpy as np\n",
        "import pandas as pd\n",
        "import nltk\n",
        "import re\n",
        "from nltk.corpus import stopwords\n",
        "from nltk.stem.porter import PorterStemmer\n",
        "from sklearn.feature_extraction.text import TfidfVectorizer\n",
        "from sklearn.model_selection import train_test_split\n",
        "from sklearn.linear_model import LogisticRegression\n",
        "from sklearn.metrics import accuracy_score"
      ]
    },
    {
      "cell_type": "code",
      "execution_count": 3,
      "metadata": {
        "colab": {
          "base_uri": "https://localhost:8080/"
        },
        "id": "YW2c9HFD0Tkk",
        "outputId": "66fa07da-3011-411b-e9f6-abbb4768c3e4"
      },
      "outputs": [
        {
          "name": "stderr",
          "output_type": "stream",
          "text": [
            "[nltk_data] Downloading package stopwords to /Users/harsh/nltk_data...\n",
            "[nltk_data]   Package stopwords is already up-to-date!\n"
          ]
        },
        {
          "data": {
            "text/plain": [
              "True"
            ]
          },
          "execution_count": 3,
          "metadata": {},
          "output_type": "execute_result"
        }
      ],
      "source": [
        "nltk.download('stopwords')"
      ]
    },
    {
      "cell_type": "code",
      "execution_count": 18,
      "metadata": {
        "id": "dsI70Jgv07Hn"
      },
      "outputs": [],
      "source": [
        "#loading the dataset\n",
        "data = pd.read_csv('/Users/harsh/Desktop/ESE_Dataset/ds2.csv')"
      ]
    },
    {
      "cell_type": "code",
      "execution_count": 19,
      "metadata": {
        "colab": {
          "base_uri": "https://localhost:8080/",
          "height": 206
        },
        "id": "i3lSo-gn2w7R",
        "outputId": "bcb4210d-9ffa-4b4d-c68e-421a0e1e91dc"
      },
      "outputs": [
        {
          "data": {
            "text/html": [
              "<div>\n",
              "<style scoped>\n",
              "    .dataframe tbody tr th:only-of-type {\n",
              "        vertical-align: middle;\n",
              "    }\n",
              "\n",
              "    .dataframe tbody tr th {\n",
              "        vertical-align: top;\n",
              "    }\n",
              "\n",
              "    .dataframe thead th {\n",
              "        text-align: right;\n",
              "    }\n",
              "</style>\n",
              "<table border=\"1\" class=\"dataframe\">\n",
              "  <thead>\n",
              "    <tr style=\"text-align: right;\">\n",
              "      <th></th>\n",
              "      <th>Unnamed: 0</th>\n",
              "      <th>id</th>\n",
              "      <th>title</th>\n",
              "      <th>author</th>\n",
              "      <th>text</th>\n",
              "      <th>label</th>\n",
              "    </tr>\n",
              "  </thead>\n",
              "  <tbody>\n",
              "    <tr>\n",
              "      <th>0</th>\n",
              "      <td>0</td>\n",
              "      <td>9653</td>\n",
              "      <td>Ethics Questions Dogged Agriculture Nominee as...</td>\n",
              "      <td>Eric Lipton and Steve Eder</td>\n",
              "      <td>WASHINGTON  —   In Sonny Perdue’s telling, Geo...</td>\n",
              "      <td>0</td>\n",
              "    </tr>\n",
              "    <tr>\n",
              "      <th>1</th>\n",
              "      <td>1</td>\n",
              "      <td>10041</td>\n",
              "      <td>U.S. Must Dig Deep to Stop Argentina’s Lionel ...</td>\n",
              "      <td>David Waldstein</td>\n",
              "      <td>HOUSTON  —   Venezuela had a plan. It was a ta...</td>\n",
              "      <td>0</td>\n",
              "    </tr>\n",
              "    <tr>\n",
              "      <th>2</th>\n",
              "      <td>2</td>\n",
              "      <td>19113</td>\n",
              "      <td>Cotton to House: ’Do Not Walk the Plank and Vo...</td>\n",
              "      <td>Pam Key</td>\n",
              "      <td>Sunday on ABC’s “This Week,” while discussing ...</td>\n",
              "      <td>0</td>\n",
              "    </tr>\n",
              "    <tr>\n",
              "      <th>3</th>\n",
              "      <td>3</td>\n",
              "      <td>6868</td>\n",
              "      <td>Paul LePage, Besieged Maine Governor, Sends Co...</td>\n",
              "      <td>Jess Bidgood</td>\n",
              "      <td>AUGUSTA, Me.  —   The beleaguered Republican g...</td>\n",
              "      <td>0</td>\n",
              "    </tr>\n",
              "    <tr>\n",
              "      <th>4</th>\n",
              "      <td>4</td>\n",
              "      <td>7596</td>\n",
              "      <td>A Digital 9/11 If Trump Wins</td>\n",
              "      <td>Finian Cunningham</td>\n",
              "      <td>Finian Cunningham has written extensively on i...</td>\n",
              "      <td>1</td>\n",
              "    </tr>\n",
              "  </tbody>\n",
              "</table>\n",
              "</div>"
            ],
            "text/plain": [
              "   Unnamed: 0     id                                              title  \\\n",
              "0           0   9653  Ethics Questions Dogged Agriculture Nominee as...   \n",
              "1           1  10041  U.S. Must Dig Deep to Stop Argentina’s Lionel ...   \n",
              "2           2  19113  Cotton to House: ’Do Not Walk the Plank and Vo...   \n",
              "3           3   6868  Paul LePage, Besieged Maine Governor, Sends Co...   \n",
              "4           4   7596                       A Digital 9/11 If Trump Wins   \n",
              "\n",
              "                       author  \\\n",
              "0  Eric Lipton and Steve Eder   \n",
              "1             David Waldstein   \n",
              "2                     Pam Key   \n",
              "3                Jess Bidgood   \n",
              "4           Finian Cunningham   \n",
              "\n",
              "                                                text  label  \n",
              "0  WASHINGTON  —   In Sonny Perdue’s telling, Geo...      0  \n",
              "1  HOUSTON  —   Venezuela had a plan. It was a ta...      0  \n",
              "2  Sunday on ABC’s “This Week,” while discussing ...      0  \n",
              "3  AUGUSTA, Me.  —   The beleaguered Republican g...      0  \n",
              "4  Finian Cunningham has written extensively on i...      1  "
            ]
          },
          "execution_count": 19,
          "metadata": {},
          "output_type": "execute_result"
        }
      ],
      "source": [
        "data.head()\n",
        "#in this dataset 1 means fake 0 means real"
      ]
    },
    {
      "cell_type": "code",
      "execution_count": 20,
      "metadata": {
        "colab": {
          "base_uri": "https://localhost:8080/"
        },
        "id": "JpkBJFLI3iSl",
        "outputId": "52838d37-a3ba-4bf1-d0c0-7ef49dbb0c8e"
      },
      "outputs": [
        {
          "data": {
            "text/plain": [
              "Unnamed: 0       0\n",
              "id               0\n",
              "title          558\n",
              "author        1957\n",
              "text            39\n",
              "label            0\n",
              "dtype: int64"
            ]
          },
          "execution_count": 20,
          "metadata": {},
          "output_type": "execute_result"
        }
      ],
      "source": [
        "#checkikng for missing values and replacing them with null strings \n",
        "data.isnull().sum()"
      ]
    },
    {
      "cell_type": "code",
      "execution_count": 8,
      "metadata": {
        "id": "cBEpnMhP4eUf"
      },
      "outputs": [],
      "source": [
        "data = data.fillna('')"
      ]
    },
    {
      "cell_type": "code",
      "execution_count": 9,
      "metadata": {
        "colab": {
          "base_uri": "https://localhost:8080/"
        },
        "id": "jAoC788m2813",
        "outputId": "8c7bf5fa-32dd-41bf-aa01-1918600ab9fa"
      },
      "outputs": [
        {
          "name": "stdout",
          "output_type": "stream",
          "text": [
            "0        Ethics Questions Dogged Agriculture Nominee as...\n",
            "1        U.S. Must Dig Deep to Stop Argentina’s Lionel ...\n",
            "2        Cotton to House: ’Do Not Walk the Plank and Vo...\n",
            "3        Paul LePage, Besieged Maine Governor, Sends Co...\n",
            "4        A Digital 9/11 If Trump Wins Finian Cunningham...\n",
            "                               ...                        \n",
            "20795     No, you'll be a dog licking of the vomit of y...\n",
            "20796    Albert Pike and the European Migrant Crisis By...\n",
            "20797    Dakota Access Caught Infiltrating Protests to ...\n",
            "20798    How to Stretch the Summer Solstice - The New Y...\n",
            "20799    Emory University to Pay for ’100 Percent’ of U...\n",
            "Name: content, Length: 20800, dtype: object\n"
          ]
        }
      ],
      "source": [
        "#first merging title and text\n",
        "data['content']= data['title']+\" \"+data['text']\n",
        "print(data['content'])"
      ]
    },
    {
      "cell_type": "code",
      "execution_count": 13,
      "metadata": {
        "id": "aLbrWgqG3UkD"
      },
      "outputs": [],
      "source": [
        "port_stem = PorterStemmer()\n",
        "stop_words = set(stopwords.words('english'))\n",
        "pattern = re.compile('[^a-zA-Z]')\n",
        "def stemming(content, pattern, stop_words, stemmer):\n",
        "  stem_content = pattern.sub(' ', content)\n",
        "  stem_content = stem_content.lower().split()\n",
        "  stem_content = [stemmer.stem(word) for word in stem_content if word not in stop_words]\n",
        "  stem_content = ' '.join(stem_content)\n",
        "  return stem_content\n",
        "\n",
        "# applying the optimized stemming function to the content\n",
        "data['content'] = data['content'].apply(stemming, args=(pattern, stop_words, port_stem))"
      ]
    },
    {
      "cell_type": "code",
      "execution_count": 15,
      "metadata": {
        "colab": {
          "base_uri": "https://localhost:8080/"
        },
        "id": "9KiCM3ox6ooP",
        "outputId": "e888856c-3255-4aad-cbbb-5c65f2595ea4"
      },
      "outputs": [
        {
          "name": "stdout",
          "output_type": "stream",
          "text": [
            "0        ethic question dog agricultur nomine georgia g...\n",
            "1        u must dig deep stop argentina lionel messi ne...\n",
            "2        cotton hous walk plank vote bill cannot pass s...\n",
            "3        paul lepag besieg main governor send conflict ...\n",
            "4        digit trump win finian cunningham written exte...\n",
            "                               ...                        \n",
            "20795                       dog lick vomit chines overlord\n",
            "20796    albert pike european migrant crisi rixon stewa...\n",
            "20797    dakota access caught infiltr protest incit vio...\n",
            "20798    stretch summer solstic new york time offici su...\n",
            "20799    emori univers pay percent undocu student finan...\n",
            "Name: content, Length: 20800, dtype: object\n"
          ]
        }
      ],
      "source": [
        "print(data['content'])"
      ]
    },
    {
      "cell_type": "code",
      "execution_count": 16,
      "metadata": {
        "id": "GiUjTonS60w0"
      },
      "outputs": [],
      "source": [
        "#separating the data\n",
        "X= data['content'].values\n",
        "Y= data['label'].values"
      ]
    },
    {
      "cell_type": "code",
      "execution_count": 17,
      "metadata": {
        "colab": {
          "base_uri": "https://localhost:8080/"
        },
        "id": "ud21BcgY8ega",
        "outputId": "0aa10788-3765-496f-ef07-41c84f51878d"
      },
      "outputs": [
        {
          "name": "stdout",
          "output_type": "stream",
          "text": [
            "['ethic question dog agricultur nomine georgia governor new york time washington sonni perdu tell georgian grow weari corrupt scandal state took governor time gave version drain swamp pledg first goal governor restor public trust state govern chang cultur state govern mr perdu told leadership confer kennesaw state univers april form govern depend mutual bond trust peopl govern peopl becom cynic govern mr perdu republican await confirm serv presid trump agricultur secretari becam target frequent critic fail honor ethic pledg eight year governor critic center fact mr trump continu help run famili busi ventur four compani serv governor mr perdu one last cabinet member await senat confirm date set confirm hear holdup releas paperwork accompani nomin feder offic govern ethic blame delay offic must examin mr perdu propos avoid conflict interest run u depart known may includ sell farm asset tenur governor end complaint file mr perdu state ethic commiss two occas rule governor violat state ethic law commiss took unusu step fine mr perdu governor numer question includ role mr perdu person lawyer also state legisl push bill legislatur includ special provis gave mr perdu state tax relief tenur governor come close mr perdu met georgia offici overse state port discuss use termin famili busi accord document obtain atlanta soon left offic fact open new compani special export product savannah public offici suppos act entir behalf public said yasha heidari former senior legal counsel state ethic commiss look record attorney citizen state seriou concern written statement spokeswoman mr perdu reject assess say frequent critic face governor larg polit motiv republican governor georgia year statement said governor perdu david slew democrat goliath wait mr perdu confirm hear farm industri come defens think go find man honor sonni perdu said zippi duval georgia cattl poultri farmer presid american farm bureau feder ad known mr perdu decad ethic come born famili farmer mr perdu play colleg footbal univers georgia later work briefli practic veterinarian rose rank state legislatur late switch parti affili democrat republican said state parti lost focu famili valu one mr perdu first act sworn governor januari sign execut order establish new code ethic execut branch employe order appli governor prohibit state employe use power financi person benefit bar take gift worth carri offici duti oblig offic employe state govern must work sole public good strive vigilantli avoid even appear action motiv privat person interest execut order said mr perdu end collect least worth benefit gift year governor state record show gift rang ticket nascar race footbal game flight paid altria tobacco compani csx railroad giant accord report citizen respons ethic washington liber nonprofit group mr perdu spokeswoman written statement said none gift violat ban trip offici state busi perfectli accept save taxpay fund gift state statement read governor fine state ethic commiss came commiss conclud mr perdu fail properli report use airplan own one famili busi trip commiss also found taken campaign contribut amount exceed state limit sever donor includ polit action committe run suntrust bank mr perdu call violat technic investig polit motiv teddi lee execut secretari state ethic commiss fire job januari interview blame mr perdu fire mr lee serv job four governor look like polit hit mr lee said mr lee dismiss came mr perdu seek month largest scandal emerg state tax break receiv thank legisl maneuv engin lawmak also person lawyer focu controversi piec properti florida mr perdu purchas purchas allow defer pay feder capit gain tax separ piec georgia land previous sold profit transact complet mr perdu still owe georgia state tax mr perdu sign bill follow year elimin state tax oblig state law chang allow rollov relief capit gain even new properti purchas state deliber legisl larri neal member georgia hous repres also work part time person lawyer mr perdu interven make chang provis retroact meant would cover mr perdu land deal save governor report time mr perdu spokeswoman said chang state law intend benefit mr perdu benefit georgian statement said scott faber environment work group nonprofit organ keep close watch polici agricultur depart said question mr perdu fit take depart given record conflict interest governor georgia fair ask fit run feder agenc mr faber said mr duval american farm bureau feder believ opposit mr duval said former farmer mr perdu nation need run depart work farm own busi buy sell grain domest intern mr duval said ought requir someon run u know someth farm sonni certainli'\n",
            " 'u must dig deep stop argentina lionel messi new york time houston venezuela plan tactic approach design specif take lionel messi danger argentin attack game appli forward pressur forc argentina make long hope pass work seven minut eighth minut messi conjur kind technic geniu compel observ call best soccer player world art lift perfect pass yard gonzalo higua n one strike touch higua n convert goal first argentina victori saturday copa rica centenario quarterfin decis moment like mani other experienc oppon hope stop messi venezuela care conceiv defens tactic laid wast stroke geniu chang scheme venezuela coach rafael dudamel said incred pass messi score messi frequent brilliant stroke like one unit state turn tri find way suppress unit state earn spot tuesday copa rica semifin nrg stadium beat ecuador dubiou prize await messi argentina mesmer dribbl pass shoot virtuoso special unit state coach jurgen klinsmann said absolut special play type player get opportun play one biggest player world want rais game want enjoy unit state chanc play meaning game star messi calib also play qualiti team fifa argentina rank world tuesday match rough equival take pel brazil ferenc puska hungari team led argentin soccer geniu diego maradona klinsmann note unit state second beat portug world cup cristiano ronaldo time consid messi equal provid gorgeou cross enabl portug tie game year unit state face like england wayn rooney world cup brazil ronaldinho confeder cup itali paolo maldini one best left back histori world cup well brazil duo bebeto rom rio romania gheorgh hagi top player era world cup world cup unit state lost itali one goal score giusepp meazza historian consid best player itali produc world cup klinsmann score unit state toward end prolif career one danger attack world champion west germani germani recent memori noth quit resembl tuesday challeng two year ago ronaldo enjoy kind team support portug messi javier mascherano ngel di mar healthi sergio ag ero particularli higua n argentina penetr score twice venezuela spend much time focus either messi higua n could act decis two striker realli except gerardo martino argentina coach said saturday match cannot repeat enough realli feel peopl argentina hard time accept qualiti soccer player two proceed feel best martino watch venezuela hack messi sever time quarterfin game said unit state would certainli use everi possibl mean stop hope everi possibl way legal way said news confer monday superb messi believ achiev true potenti win major trophi argentina numer time club team barcelona tie gabriel batistuta record intern goal argentina saturday messi said felt pressur alway go messi said calm maradona time argentina also strong support player like claudio caniggia jorg valdano jorg burruchaga later batistuta like messi maradona team clear supremo unit state beat argentina copa rica maradona longer play countri klinsmann chanc play maradona sever time world cup west germani beat maradona argentina dismal final rome talk two wonder player best world time klinsmann said refer maradona messi messi time opportun play mani game maradona maradona time admir player also way stop type person pull old stori tell player way play wonder player klinsmann show team video scout report messi argentina said player need give percent order achiev upset tuesday argentin infal ad major tournament year messi team come short twice last two year germani beat la albicelest argentina known final world cup chile final last year copa rica time took champion beat messi argentina guy probabl worri messi unit state captain michael bradley told report good player also probabl understat still soccer game guy guy'\n",
            " 'cotton hous walk plank vote bill cannot pass senat breitbart sunday abc week discuss republican plan repeal replac obamacar sen tom cotton warn gop hous member walk plank vote bill cannot pass senat face consequ vote ad bill probabl fix go take lot carpentri framework hill follow pam key twitter pamkeynen'\n",
            " ...\n",
            " 'dakota access caught infiltr protest incit violenc fund troll onlin post eddi know dakota access pipelin protest work oil interest start resort underhand trick paint water protector neg light fight pipelin grow north dakota around countri dirti trick deploy appar attempt delegitim opposit dakota access employe tri incit violenc sheriff depart make fals report shot protest mother jone journalist we enzinna protest say wit dakota access llc employe tri infiltr dakota access pipelin protest arm secur agent employ compani behind controversi dakota access pipelin arrest thursday caught enter camp activist protest near stand rock indian reserv southern north dakota car chase standoff allegedli point assault rifl local sioux teenag man whose id indic employe dakota access llc arrest hand fbi accord offici statement tribe man fire sever shot gun peac apprehend tribal polic wit scene say point gun sever protest man clearli tri provok violenc could later use demon protest far remain peac morton counti sheriff depart circul fals report claim man shot presum protest see imag man harm sheriff depart sinc retract report anti media attempt obtain clarifi comment morton counti sheriff ignor fake internet troll slam dakota access pipelin protest promot pipelin twitter littl organ support dakota access pipelin remain group alli pipelin builder seem creat paid internet troll bot slam protest prais pipelin desmog environment blog conduct investig found say sock puppet account tie oil industri lobbi oper twitter desmog investig reveal possibl front group support controversi dakota access pipelin dapl midwest allianc infrastructur main may creat fake twitter profil known sock puppet convey pro pipelin messag social media main may employ pr servic firm dci group connect republican parti order desmog track least differ question twitter account use nodapl hashtag employ protest order claim opposit pipelin kill job protest pipelin stand rock sioux tribe encamp use violenc pipelin pose risk water sourc cross tribal land septemb peopl began suspect account fake call twitter septemb account longer exist dakota access pipelin builder resort backhand trickeri clear tide turn pipelin follow law enforc overwhelm militar crackdown protest sourc'\n",
            " 'stretch summer solstic new york time offici summer societi boutiqu societi memori sloan ketter thrift shop team luxuri fashion halsbrook stretch longest day year littl longer summer solstic chariti benefit research hospit open thursday discount percent breezi bit like cotton dress origin third avenu thursday organ beauti brand kjaer wei open whisper edit south street seaport featur two new color preciou cream blush peach shade angel eye shadow soft pink either impart healthi summer glow fulton street friday resort line vineyard vine open store grand central termin fill preppi stapl like short east nd street someth box check baja east tarot takeov brookfield place start tuesday promis read yoyin select exclus product includ poncho baja skater pant made balines ceremoni skirt start vesey street barney carri minimalist eyewear brand blyszak featur one uniformli flatter oval style varieti neutral color combin like porcelain tortois made steel water buffalo horn bottega veneta introduc version sued desert boot sold almost immedi last summer kany west wore madison avenu thursday friday ulla johnson sampl sale discount percent boho chic piec like cotton voil origin boweri thursday saturday label simon miller sampl sale discount percent piec like indigo wash jean origin canal street thursday sunday shoe label feit first ever sampl sale discount percent style like oxford origin princ street selima optiqu summer sale discount percent vintag persol eyewear origin proprietari style bond street'\n",
            " 'emori univers pay percent undocu student financi aid breitbart emori univers atlanta georgia announc fund percent financi aid packag student countri illeg although intern student expect pay full tuition undocu undergradu student emori demonstr financi need cover univers emori meet demonstr financi need undergradu undocu student without daca admit student graduat u high school combin grant scholarship institut work studi daca student institut loan undocu student without daca statu may receiv institut loan place typic work studi award univers websit state speak colleg fix megan mcrainey spokeswoman emori claim provid full financi aid relief undocu student reflect univers commit welcom student divers background emori accept undocu student admiss financi aid includ defer action childhood arriv daca program mcrainey wrote ad provid financi aid coverag undocu student align emori goal welcom student faculti staff divers background intern student afford aid privileg undocu student forc foot per year tuition bill wish attend prestigi georgian univers breitbart news report student emori claim scare pain student wrote chalk messag univers sidewalk tom ciccotta libertarian write econom higher educ breitbart news follow twitter tciccotta email tciccotta breitbart com']\n"
          ]
        }
      ],
      "source": [
        "print(X)"
      ]
    },
    {
      "cell_type": "code",
      "execution_count": 18,
      "metadata": {
        "colab": {
          "base_uri": "https://localhost:8080/"
        },
        "id": "_qTcTGQe8g39",
        "outputId": "39db2424-b76c-4951-e3be-899d9b72cc70"
      },
      "outputs": [
        {
          "name": "stdout",
          "output_type": "stream",
          "text": [
            "[0 0 0 ... 1 0 0]\n"
          ]
        }
      ],
      "source": [
        "print(Y)"
      ]
    },
    {
      "cell_type": "code",
      "execution_count": 19,
      "metadata": {
        "id": "tXuf4GB46_w_"
      },
      "outputs": [],
      "source": [
        "#converting the texts to numerical values\n",
        "vectorizer= TfidfVectorizer()\n",
        "vectorizer.fit(X)\n",
        "X = vectorizer.transform(X)"
      ]
    },
    {
      "cell_type": "code",
      "execution_count": 20,
      "metadata": {
        "colab": {
          "base_uri": "https://localhost:8080/"
        },
        "id": "OOr4YR4y73Eu",
        "outputId": "34fcd8be-f806-4989-f36d-4175b316d68a"
      },
      "outputs": [
        {
          "name": "stdout",
          "output_type": "stream",
          "text": [
            "  (0, 110337)\t0.03021959024831237\n",
            "  (0, 109358)\t0.005951058605258269\n",
            "  (0, 109001)\t0.01994818146717645\n",
            "  (0, 108910)\t0.03146428855436218\n",
            "  (0, 108188)\t0.02254309029045175\n",
            "  (0, 108074)\t0.0049500642828678\n",
            "  (0, 108053)\t0.023115462087281314\n",
            "  (0, 107969)\t0.029575265819423237\n",
            "  (0, 106173)\t0.019847569056385583\n",
            "  (0, 105960)\t0.008847838366888034\n",
            "  (0, 105916)\t0.016096954119843805\n",
            "  (0, 105545)\t0.010438999251928465\n",
            "  (0, 104558)\t0.033555731953852856\n",
            "  (0, 104390)\t0.02720863693732583\n",
            "  (0, 104133)\t0.023966762486351285\n",
            "  (0, 103997)\t0.011696746690238697\n",
            "  (0, 103661)\t0.01526935356137978\n",
            "  (0, 103121)\t0.01061484737194059\n",
            "  (0, 102675)\t0.01725188440164953\n",
            "  (0, 102350)\t0.012966062640178968\n",
            "  (0, 101834)\t0.01715597073318289\n",
            "  (0, 100428)\t0.005797996542561995\n",
            "  (0, 99799)\t0.023547426095429955\n",
            "  (0, 99708)\t0.011984152033383589\n",
            "  (0, 99456)\t0.02486611452350679\n",
            "  :\t:\n",
            "  (20799, 19102)\t0.026768099421122227\n",
            "  (20799, 18962)\t0.0327351689321117\n",
            "  (20799, 18937)\t0.02387158109479592\n",
            "  (20799, 18805)\t0.029014219474888844\n",
            "  (20799, 17944)\t0.04295236267954105\n",
            "  (20799, 17569)\t0.05818311774951032\n",
            "  (20799, 16993)\t0.04217262019413537\n",
            "  (20799, 16277)\t0.05801346703490089\n",
            "  (20799, 12798)\t0.0928609971674886\n",
            "  (20799, 10582)\t0.024314962599281398\n",
            "  (20799, 7459)\t0.07159939786081479\n",
            "  (20799, 7106)\t0.03443998901316769\n",
            "  (20799, 6394)\t0.029556119269940232\n",
            "  (20799, 6296)\t0.044314169181111425\n",
            "  (20799, 5552)\t0.028062187183424098\n",
            "  (20799, 4138)\t0.023388211748487896\n",
            "  (20799, 3094)\t0.027051579436152273\n",
            "  (20799, 2648)\t0.0408415762514653\n",
            "  (20799, 1877)\t0.16189032364571052\n",
            "  (20799, 1440)\t0.03290806058431148\n",
            "  (20799, 1186)\t0.03046007517537744\n",
            "  (20799, 1185)\t0.042756034526834893\n",
            "  (20799, 969)\t0.018993732670723188\n",
            "  (20799, 883)\t0.023539415418535607\n",
            "  (20799, 596)\t0.027024341588113072\n"
          ]
        }
      ],
      "source": [
        "print(X)"
      ]
    },
    {
      "cell_type": "code",
      "execution_count": 21,
      "metadata": {
        "id": "AD9UEwNS---J"
      },
      "outputs": [
        {
          "data": {
            "text/plain": [
              "<AxesSubplot: >"
            ]
          },
          "execution_count": 21,
          "metadata": {},
          "output_type": "execute_result"
        },
        {
          "data": {
            "image/png": "[encoded data removed]",
            "text/plain": [
              "<Figure size 640x480 with 2 Axes>"
            ]
          },
          "metadata": {},
          "output_type": "display_data"
        }
      ],
      "source": [
        "#feature selection\n",
        "import seaborn as sns\n",
        "vars_to_corr= ['content','label']\n",
        "\n",
        "\n",
        "corr_matrix = data[vars_to_corr].corr(numeric_only=True)\n",
        "\n",
        "sns.heatmap(corr_matrix, annot=True, cmap=\"coolwarm\")"
      ]
    },
    {
      "cell_type": "code",
      "execution_count": 22,
      "metadata": {
        "id": "IGwzQW758OwW"
      },
      "outputs": [],
      "source": [
        "#splitting the data for training and testing \n",
        "X_train, X_test, Y_train, Y_test = train_test_split(X,Y, test_size=0.2, random_state=2)"
      ]
    },
    {
      "cell_type": "code",
      "execution_count": 23,
      "metadata": {
        "colab": {
          "base_uri": "https://localhost:8080/",
          "height": 75
        },
        "id": "nBP8kpvf905u",
        "outputId": "f45efa6c-5ad8-401c-c9a4-526819583ab3"
      },
      "outputs": [
        {
          "data": {
            "text/html": [
              "<style>#sk-container-id-1 {color: black;background-color: white;}#sk-container-id-1 pre{padding: 0;}#sk-container-id-1 div.sk-toggleable {background-color: white;}#sk-container-id-1 label.sk-toggleable__label {cursor: pointer;display: block;width: 100%;margin-bottom: 0;padding: 0.3em;box-sizing: border-box;text-align: center;}#sk-container-id-1 label.sk-toggleable__label-arrow:before {content: \"▸\";float: left;margin-right: 0.25em;color: #696969;}#sk-container-id-1 label.sk-toggleable__label-arrow:hover:before {color: black;}#sk-container-id-1 div.sk-estimator:hover label.sk-toggleable__label-arrow:before {color: black;}#sk-container-id-1 div.sk-toggleable__content {max-height: 0;max-width: 0;overflow: hidden;text-align: left;background-color: #f0f8ff;}#sk-container-id-1 div.sk-toggleable__content pre {margin: 0.2em;color: black;border-radius: 0.25em;background-color: #f0f8ff;}#sk-container-id-1 input.sk-toggleable__control:checked~div.sk-toggleable__content {max-height: 200px;max-width: 100%;overflow: auto;}#sk-container-id-1 input.sk-toggleable__control:checked~label.sk-toggleable__label-arrow:before {content: \"▾\";}#sk-container-id-1 div.sk-estimator input.sk-toggleable__control:checked~label.sk-toggleable__label {background-color: #d4ebff;}#sk-container-id-1 div.sk-label input.sk-toggleable__control:checked~label.sk-toggleable__label {background-color: #d4ebff;}#sk-container-id-1 input.sk-hidden--visually {border: 0;clip: rect(1px 1px 1px 1px);clip: rect(1px, 1px, 1px, 1px);height: 1px;margin: -1px;overflow: hidden;padding: 0;position: absolute;width: 1px;}#sk-container-id-1 div.sk-estimator {font-family: monospace;background-color: #f0f8ff;border: 1px dotted black;border-radius: 0.25em;box-sizing: border-box;margin-bottom: 0.5em;}#sk-container-id-1 div.sk-estimator:hover {background-color: #d4ebff;}#sk-container-id-1 div.sk-parallel-item::after {content: \"\";width: 100%;border-bottom: 1px solid gray;flex-grow: 1;}#sk-container-id-1 div.sk-label:hover label.sk-toggleable__label {background-color: #d4ebff;}#sk-container-id-1 div.sk-serial::before {content: \"\";position: absolute;border-left: 1px solid gray;box-sizing: border-box;top: 0;bottom: 0;left: 50%;z-index: 0;}#sk-container-id-1 div.sk-serial {display: flex;flex-direction: column;align-items: center;background-color: white;padding-right: 0.2em;padding-left: 0.2em;position: relative;}#sk-container-id-1 div.sk-item {position: relative;z-index: 1;}#sk-container-id-1 div.sk-parallel {display: flex;align-items: stretch;justify-content: center;background-color: white;position: relative;}#sk-container-id-1 div.sk-item::before, #sk-container-id-1 div.sk-parallel-item::before {content: \"\";position: absolute;border-left: 1px solid gray;box-sizing: border-box;top: 0;bottom: 0;left: 50%;z-index: -1;}#sk-container-id-1 div.sk-parallel-item {display: flex;flex-direction: column;z-index: 1;position: relative;background-color: white;}#sk-container-id-1 div.sk-parallel-item:first-child::after {align-self: flex-end;width: 50%;}#sk-container-id-1 div.sk-parallel-item:last-child::after {align-self: flex-start;width: 50%;}#sk-container-id-1 div.sk-parallel-item:only-child::after {width: 0;}#sk-container-id-1 div.sk-dashed-wrapped {border: 1px dashed gray;margin: 0 0.4em 0.5em 0.4em;box-sizing: border-box;padding-bottom: 0.4em;background-color: white;}#sk-container-id-1 div.sk-label label {font-family: monospace;font-weight: bold;display: inline-block;line-height: 1.2em;}#sk-container-id-1 div.sk-label-container {text-align: center;}#sk-container-id-1 div.sk-container {/* jupyter's `normalize.less` sets `[hidden] { display: none; }` but bootstrap.min.css set `[hidden] { display: none !important; }` so we also need the `!important` here to be able to override the default hidden behavior on the sphinx rendered scikit-learn.org. See: https://github.com/scikit-learn/scikit-learn/issues/21755 */display: inline-block !important;position: relative;}#sk-container-id-1 div.sk-text-repr-fallback {display: none;}</style><div id=\"sk-container-id-1\" class=\"sk-top-container\"><div class=\"sk-text-repr-fallback\"><pre>LogisticRegression()</pre><b>In a Jupyter environment, please rerun this cell to show the HTML representation or trust the notebook. <br />On GitHub, the HTML representation is unable to render, please try loading this page with nbviewer.org.</b></div><div class=\"sk-container\" hidden><div class=\"sk-item\"><div class=\"sk-estimator sk-toggleable\"><input class=\"sk-toggleable__control sk-hidden--visually\" id=\"sk-estimator-id-1\" type=\"checkbox\" checked><label for=\"sk-estimator-id-1\" class=\"sk-toggleable__label sk-toggleable__label-arrow\">LogisticRegression</label><div class=\"sk-toggleable__content\"><pre>LogisticRegression()</pre></div></div></div></div></div>"
            ],
            "text/plain": [
              "LogisticRegression()"
            ]
          },
          "execution_count": 23,
          "metadata": {},
          "output_type": "execute_result"
        }
      ],
      "source": [
        "#training the model.  Logistic Regression\n",
        "model = LogisticRegression()\n",
        "model.fit(X_train, Y_train)"
      ]
    },
    {
      "cell_type": "code",
      "execution_count": 24,
      "metadata": {
        "colab": {
          "base_uri": "https://localhost:8080/"
        },
        "id": "ohT5DP-k-F2_",
        "outputId": "8d8166d9-ff1e-4869-f3e4-8de0373c5648"
      },
      "outputs": [
        {
          "name": "stdout",
          "output_type": "stream",
          "text": [
            "0.9743389423076924\n"
          ]
        }
      ],
      "source": [
        "X_train_pred = model.predict(X_train)\n",
        "train_data_accuracy= accuracy_score(X_train_pred,Y_train)\n",
        "print(train_data_accuracy)"
      ]
    },
    {
      "cell_type": "code",
      "execution_count": 25,
      "metadata": {
        "colab": {
          "base_uri": "https://localhost:8080/"
        },
        "id": "IwfyZQOh-kVi",
        "outputId": "703d720c-f7e6-497c-ee02-1d1830a0b5fc"
      },
      "outputs": [
        {
          "name": "stdout",
          "output_type": "stream",
          "text": [
            "0.9567307692307693\n"
          ]
        }
      ],
      "source": [
        "#checking accuracy on test set\n",
        "X_test_pred = model.predict(X_test)\n",
        "test_pred_accuracy= accuracy_score(X_test_pred,Y_test)\n",
        "print(test_pred_accuracy)"
      ]
    },
    {
      "cell_type": "code",
      "execution_count": 26,
      "metadata": {
        "colab": {
          "base_uri": "https://localhost:8080/"
        },
        "id": "znjx0pDz_K38",
        "outputId": "d37e3400-686c-4939-9d43-4803bfaa7e30"
      },
      "outputs": [
        {
          "name": "stdout",
          "output_type": "stream",
          "text": [
            "fake news\n"
          ]
        }
      ],
      "source": [
        "#making a predictive system\n",
        "X_news= X_test[0]\n",
        "pred= model.predict(X_news)\n",
        "if(pred==0):\n",
        "  print(\"real news\")\n",
        "else:\n",
        "  print(\"fake news\")"
      ]
    },
    {
      "cell_type": "code",
      "execution_count": 27,
      "metadata": {
        "id": "PUixnvPXKlqo"
      },
      "outputs": [],
      "source": [
        "#make 9 other models and compare the accuracy of each model and with different datasets"
      ]
    },
    {
      "cell_type": "code",
      "execution_count": 28,
      "metadata": {
        "id": "Ds2odBzebJjX"
      },
      "outputs": [],
      "source": [
        "from sklearn.tree import DecisionTreeClassifier\n",
        "from sklearn.ensemble import RandomForestClassifier\n",
        "from sklearn.naive_bayes import GaussianNB\n",
        "from sklearn.svm import SVC\n",
        "from sklearn.neighbors import KNeighborsClassifier\n",
        "from sklearn.metrics import accuracy_score"
      ]
    },
    {
      "cell_type": "code",
      "execution_count": 29,
      "metadata": {
        "colab": {
          "base_uri": "https://localhost:8080/"
        },
        "id": "9rQ6OBl6d5wB",
        "outputId": "9eb1f11c-2768-408b-df82-cd3e50ca5599"
      },
      "outputs": [
        {
          "name": "stdout",
          "output_type": "stream",
          "text": [
            "0.9348557692307692\n"
          ]
        }
      ],
      "source": [
        "# Decision Tree\n",
        "dt = DecisionTreeClassifier()\n",
        "dt.fit(X_train, Y_train)\n",
        "dt_pred = dt.predict(X_test)\n",
        "dt_acc = accuracy_score(Y_test, dt_pred)\n",
        "print(dt_acc)"
      ]
    },
    {
      "cell_type": "code",
      "execution_count": 30,
      "metadata": {
        "colab": {
          "base_uri": "https://localhost:8080/"
        },
        "id": "tKvIRsmreBII",
        "outputId": "1141ec03-4344-4016-e93b-19b2a400d311"
      },
      "outputs": [
        {
          "name": "stdout",
          "output_type": "stream",
          "text": [
            "0.9302884615384616\n"
          ]
        }
      ],
      "source": [
        "# Random Forest\n",
        "rf = RandomForestClassifier()\n",
        "rf.fit(X_train, Y_train)\n",
        "rf_pred = rf.predict(X_test)\n",
        "rf_acc = accuracy_score(Y_test, rf_pred)\n",
        "print(rf_acc)"
      ]
    },
    {
      "cell_type": "code",
      "execution_count": 31,
      "metadata": {
        "colab": {
          "base_uri": "https://localhost:8080/"
        },
        "id": "XL4ZZbOVeG32",
        "outputId": "f6d4a247-bfa0-4a10-cdcd-dddbb58d11a9"
      },
      "outputs": [
        {
          "name": "stdout",
          "output_type": "stream",
          "text": [
            "0.9663461538461539\n"
          ]
        }
      ],
      "source": [
        "# SVM\n",
        "svm = SVC()\n",
        "svm.fit(X_train, Y_train)\n",
        "svm_pred = svm.predict(X_test)\n",
        "svm_acc = accuracy_score(Y_test, svm_pred)\n",
        "print(svm_acc)"
      ]
    },
    {
      "cell_type": "code",
      "execution_count": 32,
      "metadata": {
        "colab": {
          "base_uri": "https://localhost:8080/"
        },
        "id": "ovAWjrw8eJ09",
        "outputId": "4e089cfb-818c-4d72-bca4-10971031de7d"
      },
      "outputs": [
        {
          "name": "stdout",
          "output_type": "stream",
          "text": [
            "0.5766826923076923\n"
          ]
        }
      ],
      "source": [
        "# K-Nearest Neighbors\n",
        "knn = KNeighborsClassifier()\n",
        "knn.fit(X_train, Y_train)\n",
        "knn_pred = knn.predict(X_test)\n",
        "knn_acc = accuracy_score(Y_test, knn_pred)\n",
        "print(knn_acc)"
      ]
    },
    {
      "cell_type": "code",
      "execution_count": null,
      "metadata": {},
      "outputs": [
        {
          "name": "stdout",
          "output_type": "stream",
          "text": [
            "0.9629807692307693\n"
          ]
        }
      ],
      "source": [
        "#Passive Aggressive classifier\n",
        "from sklearn.linear_model import PassiveAggressiveClassifier\n",
        "\n",
        "model=PassiveAggressiveClassifier(max_iter=500)\n",
        "model.fit(X_train,Y_train)\n",
        "y_pred=model.predict(X_test)\n",
        "pac_acc=accuracy_score(Y_test,y_pred)\n",
        "print(pac_acc)"
      ]
    },
    {
      "cell_type": "code",
      "execution_count": 33,
      "metadata": {
        "id": "DBgmtkG-gzbN"
      },
      "outputs": [],
      "source": [
        "from sklearn.ensemble import GradientBoostingClassifier, BaggingClassifier, ExtraTreesClassifier\n",
        "from sklearn.neural_network import MLPClassifier\n",
        "from xgboost import XGBClassifier"
      ]
    },
    {
      "cell_type": "code",
      "execution_count": 34,
      "metadata": {
        "id": "RDdjA8hQg1on"
      },
      "outputs": [],
      "source": [
        "# Split the data into training and testing sets\n",
        "X_train, X_test, y_train, y_test = train_test_split(X.toarray(), Y, test_size=0.2, random_state=42)"
      ]
    },
    {
      "cell_type": "code",
      "execution_count": 35,
      "metadata": {
        "colab": {
          "base_uri": "https://localhost:8080/"
        },
        "id": "URF7NiARhJSr",
        "outputId": "91928843-05c7-48d3-9dd9-187cf26fd346"
      },
      "outputs": [
        {
          "name": "stdout",
          "output_type": "stream",
          "text": [
            "Neural Networks accuracy: 0.9605769230769231\n"
          ]
        }
      ],
      "source": [
        "# Neural Networks\n",
        "nn = MLPClassifier(hidden_layer_sizes=(100,), max_iter=1000)\n",
        "nn.fit(X_train, y_train)\n",
        "nn_pred = nn.predict(X_test)\n",
        "nn_acc = accuracy_score(y_test, nn_pred)\n",
        "print('Neural Networks accuracy:', nn_acc)"
      ]
    },
    {
      "cell_type": "code",
      "execution_count": null,
      "metadata": {},
      "outputs": [
        {
          "name": "stdout",
          "output_type": "stream",
          "text": [
            "XGBoost accuracy: 0.9226519337016574\n"
          ]
        }
      ],
      "source": [
        "# XGBoost\n",
        "xgb = XGBClassifier()\n",
        "xgb.fit(X_train, y_train)\n",
        "xgb_pred = xgb.predict(X_test)\n",
        "xgb_acc = accuracy_score(y_test, xgb_pred)\n",
        "print('XGBoost accuracy:', xgb_acc)"
      ]
    },
    {
      "cell_type": "code",
      "execution_count": null,
      "metadata": {
        "colab": {
          "base_uri": "https://localhost:8080/"
        },
        "id": "xBpVNwv9hPO5",
        "outputId": "6c63ae11-e6d6-46cf-9857-7a729555acf3"
      },
      "outputs": [
        {
          "name": "stdout",
          "output_type": "stream",
          "text": [
            "Bagging accuracy: 0.8626677190213102\n"
          ]
        }
      ],
      "source": [
        "# Bagging\n",
        "bg = BaggingClassifier()\n",
        "bg.fit(X_train, y_train)\n",
        "bg_pred = bg.predict(X_test)\n",
        "bg_acc = accuracy_score(y_test, bg_pred)\n",
        "print('Bagging accuracy:', bg_acc)"
      ]
    },
    {
      "cell_type": "code",
      "execution_count": null,
      "metadata": {
        "colab": {
          "base_uri": "https://localhost:8080/"
        },
        "id": "Yv3Y8urFhVxZ",
        "outputId": "fcdf0eed-3c83-4e83-df5e-08a5242fad1d"
      },
      "outputs": [
        {
          "name": "stdout",
          "output_type": "stream",
          "text": [
            "Naive Bayes accuracy: 0.8018942383583267\n"
          ]
        }
      ],
      "source": [
        "# Naive Bayes\n",
        "nb = GaussianNB()\n",
        "nb.fit(X_train, y_train)\n",
        "nb_pred = nb.predict(X_test)\n",
        "nb_acc = accuracy_score(y_test, nb_pred)\n",
        "print('Naive Bayes accuracy:', nb_acc)"
      ]
    },
    {
      "cell_type": "code",
      "execution_count": 1,
      "metadata": {
        "colab": {
          "base_uri": "https://localhost:8080/",
          "height": 472
        },
        "id": "4n7-j-FAuMMt",
        "outputId": "caa2d7f4-b03e-4375-bdbf-0bd021a08ca4"
      },
      "outputs": [
        {
          "data": {
            "image/png": "[encoded data removed]",
            "text/plain": [
              "<Figure size 640x480 with 1 Axes>"
            ]
          },
          "metadata": {},
          "output_type": "display_data"
        }
      ],
      "source": [
        "import matplotlib.pyplot as plt\n",
        "# Create a dictionary of accuracy scores for each model\n",
        "accuracy_scores = {'LR': test_pred_accuracy, 'DT': dt_acc, 'RF': rf_acc, 'SVM':svm_acc, 'KNN':knn_acc, 'PAC':pac_acc,'NN':nn_acc,'Xgb':xgb_acc,'Bg':bg_acc, 'NB':nb_acc}\n",
        "\n",
        "# Create a bar chart of the accuracy scores\n",
        "plt.bar(accuracy_scores.keys(), accuracy_scores.values())\n",
        "\n",
        "# Add labels and title to the plot\n",
        "plt.xlabel('Model')\n",
        "plt.ylabel('Accuracy Score')\n",
        "plt.title('Comparison of Models')\n",
        "\n",
        "# Display the plot\n",
        "plt.show()"
      ]
    },
    {
      "attachments": {},
      "cell_type": "markdown",
      "metadata": {},
      "source": [
        "<font size=\"4\">From the above graph it can be noted that SVM has the largest accuracy=0.9663461538461539</font>"
      ]
    },
    {
      "cell_type": "code",
      "execution_count": 2,
      "metadata": {
        "id": "qFhITiUdAHKC"
      },
      "outputs": [],
      "source": [
        "#statistical testing on the dataset\n",
        "import numpy as np"
      ]
    },
    {
      "cell_type": "code",
      "execution_count": 7,
      "metadata": {},
      "outputs": [
        {
          "name": "stdout",
          "output_type": "stream",
          "text": [
            "Friedman test\n",
            "--------------\n",
            "F-value:  9.0\n",
            "p-value:  0.43727418891386693\n",
            "There is no significant difference in the performance of the models.\n"
          ]
        }
      ],
      "source": [
        "import scipy.stats as stats\n",
        "\n",
        "models = ['LR', 'DT', 'RF', 'SVM', 'KNN', 'PAC','NN', 'Xgb', 'Bg', 'NB']\n",
        "scores = [test_pred_accuracy, dt_acc, rf_acc, svm_acc, knn_acc, pac_acc, nn_acc, xgb_acc, bg_acc, nb_acc]\n",
        "scores = [np.array([score]) if np.ndim(score) == 0 else score for score in scores]\n",
        "\n",
        "# Perform Friedman test\n",
        "f_value, p_value = stats.friedmanchisquare(*scores)\n",
        "\n",
        "# Print results\n",
        "print(\"Friedman test\")\n",
        "print(\"--------------\")\n",
        "print(\"F-value: \", f_value)\n",
        "print(\"p-value: \", p_value)\n",
        "\n",
        "# Interpret results\n",
        "if p_value < 0.05:\n",
        "    print(\"There is a significant difference in the performance of the models.\")\n",
        "else:\n",
        "    print(\"There is no significant difference in the performance of the models.\")"
      ]
    },
    {
      "cell_type": "code",
      "execution_count": 8,
      "metadata": {},
      "outputs": [
        {
          "name": "stdout",
          "output_type": "stream",
          "text": [
            "Chi-squared test results\n",
            "-------------------------\n",
            "Chi-squared statistic: 0.14861812055935486\n",
            "p-value: 0.9999998505642951\n",
            "There is no significant difference in the test accuracy scores of the models.\n"
          ]
        }
      ],
      "source": [
        "import numpy as np\n",
        "from scipy.stats import chisquare\n",
        "\n",
        "models = ['LR', 'DT', 'RF', 'SVM', 'KNN', 'PAC','NN', 'Xgb', 'Bg', 'NB']\n",
        "scores = [test_pred_accuracy, dt_acc, rf_acc, svm_acc, knn_acc, pac_acc, nn_acc, xgb_acc, bg_acc, nb_acc]\n",
        "\n",
        "expected_score = np.mean(scores)\n",
        "\n",
        "# Calculate the chi-squared test statistic and p-value\n",
        "chi_stat, p_value = chisquare(scores, f_exp=expected_score)\n",
        "\n",
        "print(\"Chi-squared test results\")\n",
        "print(\"-------------------------\")\n",
        "print(\"Chi-squared statistic:\", chi_stat)\n",
        "print(\"p-value:\", p_value)\n",
        "\n",
        "if p_value < 0.05:\n",
        "    print(\"There is a significant difference in the test accuracy scores of the models.\")\n",
        "else:\n",
        "    print(\"There is no significant difference in the test accuracy scores of the models.\")"
      ]
    },
    {
      "cell_type": "code",
      "execution_count": 9,
      "metadata": {},
      "outputs": [
        {
          "name": "stdout",
          "output_type": "stream",
          "text": [
            "Paired t-test results\n",
            "----------------------\n",
            "t-statistic: 0.2626416007722377\n",
            "p-value: 0.799463825458402\n",
            "There is no significant difference in the test accuracy scores of the models.\n"
          ]
        }
      ],
      "source": [
        "import numpy as np\n",
        "from scipy.stats import ttest_rel\n",
        "\n",
        "models = ['LR', 'DT', 'RF', 'SVM', 'KNN', 'PAC','NN', 'Xgb', 'Bg', 'NB']\n",
        "scores = [test_pred_accuracy, dt_acc, rf_acc, svm_acc, knn_acc, pac_acc, nn_acc, xgb_acc, bg_acc, nb_acc]\n",
        "\n",
        "# Perform the paired t-test\n",
        "t_stat, p_value = ttest_rel(scores[:-1], scores[1:])\n",
        "\n",
        "print(\"Paired t-test results\")\n",
        "print(\"----------------------\")\n",
        "print(\"t-statistic:\", t_stat)\n",
        "print(\"p-value:\", p_value)\n",
        "\n",
        "if p_value < 0.05:\n",
        "    print(\"There is a significant difference in the test accuracy scores of the models.\")\n",
        "else:\n",
        "    print(\"There is no significant difference in the test accuracy scores of the models.\")"
      ]
    }
  ],
  "metadata": {
    "colab": {
      "provenance": []
    },
    "gpuClass": "standard",
    "kernelspec": {
      "display_name": "Python 3.9.6 64-bit",
      "language": "python",
      "name": "python3"
    },
    "language_info": {
      "codemirror_mode": {
        "name": "ipython",
        "version": 3
      },
      "file_extension": ".py",
      "mimetype": "text/x-python",
      "name": "python",
      "nbconvert_exporter": "python",
      "pygments_lexer": "ipython3",
      "version": "3.9.6"
    },
    "vscode": {
      "interpreter": {
        "hash": "31f2aee4e71d21fbe5cf8b01ff0e069b9275f58929596ceb00d14d90e3e16cd6"
      }
    }
  },
  "nbformat": 4,
  "nbformat_minor": 0
}

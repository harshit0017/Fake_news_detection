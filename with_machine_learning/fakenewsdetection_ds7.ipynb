{
  "cells": [
    {
      "attachments": {},
      "cell_type": "markdown",
      "metadata": {},
      "source": [
        "<div><font size=\"4\"><center><b>Dataset: ds7</b></center></font></div>"
      ]
    },
    {
      "cell_type": "code",
      "execution_count": 1,
      "metadata": {
        "id": "PxsGcI2G07Lz"
      },
      "outputs": [],
      "source": [
        "import pandas as pd\n",
        "from scipy import stats"
      ]
    },
    {
      "cell_type": "code",
      "execution_count": 2,
      "metadata": {
        "id": "QG2Q6F6HyYJH"
      },
      "outputs": [],
      "source": [
        "import numpy as np\n",
        "import pandas as pd\n",
        "import nltk\n",
        "import re\n",
        "from nltk.corpus import stopwords\n",
        "from nltk.stem.porter import PorterStemmer\n",
        "from sklearn.feature_extraction.text import TfidfVectorizer\n",
        "from sklearn.model_selection import train_test_split\n",
        "from sklearn.linear_model import LogisticRegression\n",
        "from sklearn.metrics import accuracy_score"
      ]
    },
    {
      "cell_type": "code",
      "execution_count": 3,
      "metadata": {
        "colab": {
          "base_uri": "https://localhost:8080/"
        },
        "id": "YW2c9HFD0Tkk",
        "outputId": "66fa07da-3011-411b-e9f6-abbb4768c3e4"
      },
      "outputs": [
        {
          "name": "stderr",
          "output_type": "stream",
          "text": [
            "[nltk_data] Downloading package stopwords to /Users/harsh/nltk_data...\n",
            "[nltk_data]   Package stopwords is already up-to-date!\n"
          ]
        },
        {
          "data": {
            "text/plain": [
              "True"
            ]
          },
          "execution_count": 3,
          "metadata": {},
          "output_type": "execute_result"
        }
      ],
      "source": [
        "nltk.download('stopwords')"
      ]
    },
    {
      "cell_type": "code",
      "execution_count": 5,
      "metadata": {
        "id": "dsI70Jgv07Hn"
      },
      "outputs": [],
      "source": [
        "#loading the dataset\n",
        "data = pd.read_csv('/Users/harsh/Desktop/ESE_Dataset/ds7.csv')"
      ]
    },
    {
      "cell_type": "code",
      "execution_count": 6,
      "metadata": {
        "colab": {
          "base_uri": "https://localhost:8080/",
          "height": 206
        },
        "id": "i3lSo-gn2w7R",
        "outputId": "bcb4210d-9ffa-4b4d-c68e-421a0e1e91dc"
      },
      "outputs": [
        {
          "data": {
            "text/html": [
              "<div>\n",
              "<style scoped>\n",
              "    .dataframe tbody tr th:only-of-type {\n",
              "        vertical-align: middle;\n",
              "    }\n",
              "\n",
              "    .dataframe tbody tr th {\n",
              "        vertical-align: top;\n",
              "    }\n",
              "\n",
              "    .dataframe thead th {\n",
              "        text-align: right;\n",
              "    }\n",
              "</style>\n",
              "<table border=\"1\" class=\"dataframe\">\n",
              "  <thead>\n",
              "    <tr style=\"text-align: right;\">\n",
              "      <th></th>\n",
              "      <th>title</th>\n",
              "      <th>text</th>\n",
              "      <th>lebel</th>\n",
              "    </tr>\n",
              "  </thead>\n",
              "  <tbody>\n",
              "    <tr>\n",
              "      <th>0</th>\n",
              "      <td>Trump backs off praise of Russia's Putin after...</td>\n",
              "      <td>HENDERSON, Nev. (Reuters) - U.S. Republican pr...</td>\n",
              "      <td>1</td>\n",
              "    </tr>\n",
              "    <tr>\n",
              "      <th>1</th>\n",
              "      <td>Trump's funding request for U.S. border wall h...</td>\n",
              "      <td>WASHINGTON (Reuters) - President Donald Trump’...</td>\n",
              "      <td>1</td>\n",
              "    </tr>\n",
              "    <tr>\n",
              "      <th>2</th>\n",
              "      <td>As Votes For Trump Went Up, Canada’s Immigrat...</td>\n",
              "      <td>Well, sad to say, it s a sure chance the next ...</td>\n",
              "      <td>0</td>\n",
              "    </tr>\n",
              "    <tr>\n",
              "      <th>3</th>\n",
              "      <td>U.S. Navy, shipbuilders ready for Trump's expa...</td>\n",
              "      <td>SIMI VALLEY, Calif. (Reuters) - The U.S. arms ...</td>\n",
              "      <td>1</td>\n",
              "    </tr>\n",
              "    <tr>\n",
              "      <th>4</th>\n",
              "      <td>Trump defends DACA move, urges Congress to ena...</td>\n",
              "      <td>WASHINGTON (Reuters) - President Donald Trump ...</td>\n",
              "      <td>1</td>\n",
              "    </tr>\n",
              "  </tbody>\n",
              "</table>\n",
              "</div>"
            ],
            "text/plain": [
              "                                               title  \\\n",
              "0  Trump backs off praise of Russia's Putin after...   \n",
              "1  Trump's funding request for U.S. border wall h...   \n",
              "2   As Votes For Trump Went Up, Canada’s Immigrat...   \n",
              "3  U.S. Navy, shipbuilders ready for Trump's expa...   \n",
              "4  Trump defends DACA move, urges Congress to ena...   \n",
              "\n",
              "                                                text  lebel  \n",
              "0  HENDERSON, Nev. (Reuters) - U.S. Republican pr...      1  \n",
              "1  WASHINGTON (Reuters) - President Donald Trump’...      1  \n",
              "2  Well, sad to say, it s a sure chance the next ...      0  \n",
              "3  SIMI VALLEY, Calif. (Reuters) - The U.S. arms ...      1  \n",
              "4  WASHINGTON (Reuters) - President Donald Trump ...      1  "
            ]
          },
          "execution_count": 6,
          "metadata": {},
          "output_type": "execute_result"
        }
      ],
      "source": [
        "data.head()\n",
        "#in this dataset 1 means fake 0 means real"
      ]
    },
    {
      "cell_type": "code",
      "execution_count": 7,
      "metadata": {
        "colab": {
          "base_uri": "https://localhost:8080/"
        },
        "id": "JpkBJFLI3iSl",
        "outputId": "52838d37-a3ba-4bf1-d0c0-7ef49dbb0c8e"
      },
      "outputs": [
        {
          "data": {
            "text/plain": [
              "title    0\n",
              "text     0\n",
              "lebel    0\n",
              "dtype: int64"
            ]
          },
          "execution_count": 7,
          "metadata": {},
          "output_type": "execute_result"
        }
      ],
      "source": [
        "#checkikng for missing values and replacing them with null strings \n",
        "data.isnull().sum()"
      ]
    },
    {
      "cell_type": "code",
      "execution_count": 8,
      "metadata": {
        "id": "cBEpnMhP4eUf"
      },
      "outputs": [],
      "source": [
        "data = data.fillna('')"
      ]
    },
    {
      "cell_type": "code",
      "execution_count": null,
      "metadata": {
        "colab": {
          "base_uri": "https://localhost:8080/"
        },
        "id": "jAoC788m2813",
        "outputId": "8c7bf5fa-32dd-41bf-aa01-1918600ab9fa"
      },
      "outputs": [],
      "source": [
        "#first merging title and text\n",
        "data['content']= data['title']+\" \"+data['text']"
      ]
    },
    {
      "cell_type": "code",
      "execution_count": 10,
      "metadata": {
        "id": "aLbrWgqG3UkD"
      },
      "outputs": [],
      "source": [
        "port_stem = PorterStemmer()\n",
        "stop_words = set(stopwords.words('english'))\n",
        "pattern = re.compile('[^a-zA-Z]')\n",
        "\n",
        "def stemming(content, pattern, stop_words, stemmer):\n",
        "  stem_content = pattern.sub(' ', content)\n",
        "  stem_content = stem_content.lower().split()\n",
        "  stem_content = [stemmer.stem(word) for word in stem_content if word not in stop_words]\n",
        "  stem_content = ' '.join(stem_content)\n",
        "  return stem_content\n",
        "\n",
        "# applying the optimized stemming function to the content\n",
        "data['content'] = data['content'].apply(stemming, args=(pattern, stop_words, port_stem))"
      ]
    },
    {
      "cell_type": "code",
      "execution_count": 13,
      "metadata": {
        "id": "GiUjTonS60w0"
      },
      "outputs": [],
      "source": [
        "#separating the data\n",
        "X= data['content'].values\n",
        "Y= data['lebel'].values"
      ]
    },
    {
      "cell_type": "code",
      "execution_count": 16,
      "metadata": {
        "id": "tXuf4GB46_w_"
      },
      "outputs": [],
      "source": [
        "#converting the texts to numerical values\n",
        "vectorizer= TfidfVectorizer()\n",
        "vectorizer.fit(X)\n",
        "X = vectorizer.transform(X)"
      ]
    },
    {
      "cell_type": "code",
      "execution_count": 18,
      "metadata": {
        "id": "AD9UEwNS---J"
      },
      "outputs": [
        {
          "data": {
            "text/plain": [
              "<AxesSubplot: >"
            ]
          },
          "execution_count": 18,
          "metadata": {},
          "output_type": "execute_result"
        },
        {
          "data": {
            "image/png": "[encoded data removed]",
            "text/plain": [
              "<Figure size 640x480 with 2 Axes>"
            ]
          },
          "metadata": {},
          "output_type": "display_data"
        }
      ],
      "source": [
        "#feature selection\n",
        "import seaborn as sns\n",
        "vars_to_corr= ['content','lebel']\n",
        "\n",
        "\n",
        "corr_matrix = data[vars_to_corr].corr(numeric_only=True)\n",
        "\n",
        "sns.heatmap(corr_matrix, annot=True, cmap=\"coolwarm\")"
      ]
    },
    {
      "cell_type": "code",
      "execution_count": 19,
      "metadata": {
        "id": "IGwzQW758OwW"
      },
      "outputs": [],
      "source": [
        "#splitting the data for training and testing \n",
        "X_train, X_test, Y_train, Y_test = train_test_split(X,Y, test_size=0.2, random_state=2)"
      ]
    },
    {
      "cell_type": "code",
      "execution_count": 20,
      "metadata": {
        "colab": {
          "base_uri": "https://localhost:8080/",
          "height": 75
        },
        "id": "nBP8kpvf905u",
        "outputId": "f45efa6c-5ad8-401c-c9a4-526819583ab3"
      },
      "outputs": [
        {
          "data": {
            "text/html": [
              "<style>#sk-container-id-1 {color: black;background-color: white;}#sk-container-id-1 pre{padding: 0;}#sk-container-id-1 div.sk-toggleable {background-color: white;}#sk-container-id-1 label.sk-toggleable__label {cursor: pointer;display: block;width: 100%;margin-bottom: 0;padding: 0.3em;box-sizing: border-box;text-align: center;}#sk-container-id-1 label.sk-toggleable__label-arrow:before {content: \"▸\";float: left;margin-right: 0.25em;color: #696969;}#sk-container-id-1 label.sk-toggleable__label-arrow:hover:before {color: black;}#sk-container-id-1 div.sk-estimator:hover label.sk-toggleable__label-arrow:before {color: black;}#sk-container-id-1 div.sk-toggleable__content {max-height: 0;max-width: 0;overflow: hidden;text-align: left;background-color: #f0f8ff;}#sk-container-id-1 div.sk-toggleable__content pre {margin: 0.2em;color: black;border-radius: 0.25em;background-color: #f0f8ff;}#sk-container-id-1 input.sk-toggleable__control:checked~div.sk-toggleable__content {max-height: 200px;max-width: 100%;overflow: auto;}#sk-container-id-1 input.sk-toggleable__control:checked~label.sk-toggleable__label-arrow:before {content: \"▾\";}#sk-container-id-1 div.sk-estimator input.sk-toggleable__control:checked~label.sk-toggleable__label {background-color: #d4ebff;}#sk-container-id-1 div.sk-label input.sk-toggleable__control:checked~label.sk-toggleable__label {background-color: #d4ebff;}#sk-container-id-1 input.sk-hidden--visually {border: 0;clip: rect(1px 1px 1px 1px);clip: rect(1px, 1px, 1px, 1px);height: 1px;margin: -1px;overflow: hidden;padding: 0;position: absolute;width: 1px;}#sk-container-id-1 div.sk-estimator {font-family: monospace;background-color: #f0f8ff;border: 1px dotted black;border-radius: 0.25em;box-sizing: border-box;margin-bottom: 0.5em;}#sk-container-id-1 div.sk-estimator:hover {background-color: #d4ebff;}#sk-container-id-1 div.sk-parallel-item::after {content: \"\";width: 100%;border-bottom: 1px solid gray;flex-grow: 1;}#sk-container-id-1 div.sk-label:hover label.sk-toggleable__label {background-color: #d4ebff;}#sk-container-id-1 div.sk-serial::before {content: \"\";position: absolute;border-left: 1px solid gray;box-sizing: border-box;top: 0;bottom: 0;left: 50%;z-index: 0;}#sk-container-id-1 div.sk-serial {display: flex;flex-direction: column;align-items: center;background-color: white;padding-right: 0.2em;padding-left: 0.2em;position: relative;}#sk-container-id-1 div.sk-item {position: relative;z-index: 1;}#sk-container-id-1 div.sk-parallel {display: flex;align-items: stretch;justify-content: center;background-color: white;position: relative;}#sk-container-id-1 div.sk-item::before, #sk-container-id-1 div.sk-parallel-item::before {content: \"\";position: absolute;border-left: 1px solid gray;box-sizing: border-box;top: 0;bottom: 0;left: 50%;z-index: -1;}#sk-container-id-1 div.sk-parallel-item {display: flex;flex-direction: column;z-index: 1;position: relative;background-color: white;}#sk-container-id-1 div.sk-parallel-item:first-child::after {align-self: flex-end;width: 50%;}#sk-container-id-1 div.sk-parallel-item:last-child::after {align-self: flex-start;width: 50%;}#sk-container-id-1 div.sk-parallel-item:only-child::after {width: 0;}#sk-container-id-1 div.sk-dashed-wrapped {border: 1px dashed gray;margin: 0 0.4em 0.5em 0.4em;box-sizing: border-box;padding-bottom: 0.4em;background-color: white;}#sk-container-id-1 div.sk-label label {font-family: monospace;font-weight: bold;display: inline-block;line-height: 1.2em;}#sk-container-id-1 div.sk-label-container {text-align: center;}#sk-container-id-1 div.sk-container {/* jupyter's `normalize.less` sets `[hidden] { display: none; }` but bootstrap.min.css set `[hidden] { display: none !important; }` so we also need the `!important` here to be able to override the default hidden behavior on the sphinx rendered scikit-learn.org. See: https://github.com/scikit-learn/scikit-learn/issues/21755 */display: inline-block !important;position: relative;}#sk-container-id-1 div.sk-text-repr-fallback {display: none;}</style><div id=\"sk-container-id-1\" class=\"sk-top-container\"><div class=\"sk-text-repr-fallback\"><pre>LogisticRegression()</pre><b>In a Jupyter environment, please rerun this cell to show the HTML representation or trust the notebook. <br />On GitHub, the HTML representation is unable to render, please try loading this page with nbviewer.org.</b></div><div class=\"sk-container\" hidden><div class=\"sk-item\"><div class=\"sk-estimator sk-toggleable\"><input class=\"sk-toggleable__control sk-hidden--visually\" id=\"sk-estimator-id-1\" type=\"checkbox\" checked><label for=\"sk-estimator-id-1\" class=\"sk-toggleable__label sk-toggleable__label-arrow\">LogisticRegression</label><div class=\"sk-toggleable__content\"><pre>LogisticRegression()</pre></div></div></div></div></div>"
            ],
            "text/plain": [
              "LogisticRegression()"
            ]
          },
          "execution_count": 20,
          "metadata": {},
          "output_type": "execute_result"
        }
      ],
      "source": [
        "#training the model.  Logistic Regression\n",
        "model = LogisticRegression()\n",
        "model.fit(X_train, Y_train)"
      ]
    },
    {
      "cell_type": "code",
      "execution_count": 21,
      "metadata": {
        "colab": {
          "base_uri": "https://localhost:8080/"
        },
        "id": "ohT5DP-k-F2_",
        "outputId": "8d8166d9-ff1e-4869-f3e4-8de0373c5648"
      },
      "outputs": [
        {
          "name": "stdout",
          "output_type": "stream",
          "text": [
            "0.98825\n"
          ]
        }
      ],
      "source": [
        "X_train_pred = model.predict(X_train)\n",
        "train_data_accuracy= accuracy_score(X_train_pred,Y_train)\n",
        "print(train_data_accuracy)"
      ]
    },
    {
      "cell_type": "code",
      "execution_count": 22,
      "metadata": {
        "colab": {
          "base_uri": "https://localhost:8080/"
        },
        "id": "IwfyZQOh-kVi",
        "outputId": "703d720c-f7e6-497c-ee02-1d1830a0b5fc"
      },
      "outputs": [
        {
          "name": "stdout",
          "output_type": "stream",
          "text": [
            "0.977\n"
          ]
        }
      ],
      "source": [
        "#checking accuracy on test set\n",
        "X_test_pred = model.predict(X_test)\n",
        "test_pred_accuracy= accuracy_score(X_test_pred,Y_test)\n",
        "print(test_pred_accuracy)"
      ]
    },
    {
      "cell_type": "code",
      "execution_count": 23,
      "metadata": {
        "colab": {
          "base_uri": "https://localhost:8080/"
        },
        "id": "znjx0pDz_K38",
        "outputId": "d37e3400-686c-4939-9d43-4803bfaa7e30"
      },
      "outputs": [
        {
          "name": "stdout",
          "output_type": "stream",
          "text": [
            "real news\n"
          ]
        }
      ],
      "source": [
        "#making a predictive system\n",
        "X_news= X_test[0]\n",
        "pred= model.predict(X_news)\n",
        "\n",
        "if(pred==0):\n",
        "  print(\"real news\")\n",
        "else:\n",
        "  print(\"fake news\")"
      ]
    },
    {
      "cell_type": "code",
      "execution_count": 24,
      "metadata": {
        "id": "PUixnvPXKlqo"
      },
      "outputs": [],
      "source": [
        "#make 9 other models and compare the accuracy of each model and with different datasets"
      ]
    },
    {
      "cell_type": "code",
      "execution_count": 25,
      "metadata": {
        "id": "Ds2odBzebJjX"
      },
      "outputs": [],
      "source": [
        "from sklearn.tree import DecisionTreeClassifier\n",
        "from sklearn.ensemble import RandomForestClassifier\n",
        "from sklearn.naive_bayes import GaussianNB\n",
        "from sklearn.svm import SVC\n",
        "from sklearn.neighbors import KNeighborsClassifier\n",
        "from sklearn.metrics import accuracy_score"
      ]
    },
    {
      "cell_type": "code",
      "execution_count": 26,
      "metadata": {
        "colab": {
          "base_uri": "https://localhost:8080/"
        },
        "id": "9rQ6OBl6d5wB",
        "outputId": "9eb1f11c-2768-408b-df82-cd3e50ca5599"
      },
      "outputs": [
        {
          "name": "stdout",
          "output_type": "stream",
          "text": [
            "0.9895\n"
          ]
        }
      ],
      "source": [
        "# Decision Tree\n",
        "dt = DecisionTreeClassifier()\n",
        "dt.fit(X_train, Y_train)\n",
        "dt_pred = dt.predict(X_test)\n",
        "dt_acc = accuracy_score(Y_test, dt_pred)\n",
        "print(dt_acc)"
      ]
    },
    {
      "cell_type": "code",
      "execution_count": 27,
      "metadata": {
        "colab": {
          "base_uri": "https://localhost:8080/"
        },
        "id": "tKvIRsmreBII",
        "outputId": "1141ec03-4344-4016-e93b-19b2a400d311"
      },
      "outputs": [
        {
          "name": "stdout",
          "output_type": "stream",
          "text": [
            "0.9875\n"
          ]
        }
      ],
      "source": [
        "# Random Forest\n",
        "rf = RandomForestClassifier()\n",
        "rf.fit(X_train, Y_train)\n",
        "rf_pred = rf.predict(X_test)\n",
        "rf_acc = accuracy_score(Y_test, rf_pred)\n",
        "print(rf_acc)"
      ]
    },
    {
      "cell_type": "code",
      "execution_count": 30,
      "metadata": {
        "colab": {
          "base_uri": "https://localhost:8080/"
        },
        "id": "XL4ZZbOVeG32",
        "outputId": "f6d4a247-bfa0-4a10-cdcd-dddbb58d11a9"
      },
      "outputs": [
        {
          "name": "stdout",
          "output_type": "stream",
          "text": [
            "0.981\n"
          ]
        }
      ],
      "source": [
        "# SVM\n",
        "svm = SVC()\n",
        "svm.fit(X_train, Y_train)\n",
        "svm_pred = svm.predict(X_test)\n",
        "svm_acc = accuracy_score(Y_test, svm_pred)\n",
        "print(svm_acc)"
      ]
    },
    {
      "cell_type": "code",
      "execution_count": 28,
      "metadata": {
        "colab": {
          "base_uri": "https://localhost:8080/"
        },
        "id": "ovAWjrw8eJ09",
        "outputId": "4e089cfb-818c-4d72-bca4-10971031de7d"
      },
      "outputs": [
        {
          "name": "stdout",
          "output_type": "stream",
          "text": [
            "0.8495\n"
          ]
        }
      ],
      "source": [
        "# K-Nearest Neighbors\n",
        "knn = KNeighborsClassifier()\n",
        "knn.fit(X_train, Y_train)\n",
        "knn_pred = knn.predict(X_test)\n",
        "knn_acc = accuracy_score(Y_test, knn_pred)\n",
        "print(knn_acc)"
      ]
    },
    {
      "cell_type": "code",
      "execution_count": 29,
      "metadata": {},
      "outputs": [
        {
          "name": "stdout",
          "output_type": "stream",
          "text": [
            "0.987\n"
          ]
        }
      ],
      "source": [
        "#Passive Aggressive classifier\n",
        "from sklearn.linear_model import PassiveAggressiveClassifier\n",
        "\n",
        "model=PassiveAggressiveClassifier(max_iter=500)\n",
        "model.fit(X_train,Y_train)\n",
        "y_pred=model.predict(X_test)\n",
        "pac_acc=accuracy_score(Y_test,y_pred)\n",
        "print(pac_acc)"
      ]
    },
    {
      "cell_type": "code",
      "execution_count": 31,
      "metadata": {
        "id": "DBgmtkG-gzbN"
      },
      "outputs": [],
      "source": [
        "from sklearn.ensemble import GradientBoostingClassifier, BaggingClassifier, ExtraTreesClassifier\n",
        "from sklearn.neural_network import MLPClassifier\n",
        "from xgboost import XGBClassifier"
      ]
    },
    {
      "cell_type": "code",
      "execution_count": 32,
      "metadata": {
        "id": "RDdjA8hQg1on"
      },
      "outputs": [],
      "source": [
        "# Split the data into training and testing sets\n",
        "X_train, X_test, y_train, y_test = train_test_split(X.toarray(), Y, test_size=0.2, random_state=42)"
      ]
    },
    {
      "cell_type": "code",
      "execution_count": 35,
      "metadata": {
        "colab": {
          "base_uri": "https://localhost:8080/"
        },
        "id": "URF7NiARhJSr",
        "outputId": "91928843-05c7-48d3-9dd9-187cf26fd346"
      },
      "outputs": [
        {
          "name": "stdout",
          "output_type": "stream",
          "text": [
            "Neural Networks accuracy: 0.981\n"
          ]
        }
      ],
      "source": [
        "# Neural Networks\n",
        "nn = MLPClassifier(hidden_layer_sizes=(100,), max_iter=1000)\n",
        "nn.fit(X_train, y_train)\n",
        "nn_pred = nn.predict(X_test)\n",
        "nn_acc = accuracy_score(y_test, nn_pred)\n",
        "print('Neural Networks accuracy:', nn_acc)"
      ]
    },
    {
      "cell_type": "code",
      "execution_count": 36,
      "metadata": {},
      "outputs": [
        {
          "name": "stdout",
          "output_type": "stream",
          "text": [
            "XGBoost accuracy: 0.995\n"
          ]
        }
      ],
      "source": [
        "# XGBoost\n",
        "xgb = XGBClassifier()\n",
        "xgb.fit(X_train, y_train)\n",
        "xgb_pred = xgb.predict(X_test)\n",
        "xgb_acc = accuracy_score(y_test, xgb_pred)\n",
        "print('XGBoost accuracy:', xgb_acc)"
      ]
    },
    {
      "cell_type": "code",
      "execution_count": 34,
      "metadata": {},
      "outputs": [
        {
          "name": "stdout",
          "output_type": "stream",
          "text": [
            "Bagging accuracy: 0.9945\n"
          ]
        }
      ],
      "source": [
        "# Bagging\n",
        "bg = BaggingClassifier()\n",
        "bg.fit(X_train, y_train)\n",
        "bg_pred = bg.predict(X_test)\n",
        "bg_acc = accuracy_score(y_test, bg_pred)\n",
        "print('Bagging accuracy:', bg_acc)"
      ]
    },
    {
      "cell_type": "code",
      "execution_count": 33,
      "metadata": {},
      "outputs": [
        {
          "name": "stdout",
          "output_type": "stream",
          "text": [
            "Naive Bayes accuracy: 0.8435\n"
          ]
        }
      ],
      "source": [
        "# Naive Bayes\n",
        "from sklearn.naive_bayes import GaussianNB\n",
        "nb = GaussianNB()\n",
        "nb.fit(X_train, y_train)\n",
        "nb_pred = nb.predict(X_test)\n",
        "nb_acc = accuracy_score(y_test, nb_pred)\n",
        "print('Naive Bayes accuracy:', nb_acc)"
      ]
    },
    {
      "cell_type": "code",
      "execution_count": 37,
      "metadata": {
        "colab": {
          "base_uri": "https://localhost:8080/",
          "height": 472
        },
        "id": "4n7-j-FAuMMt",
        "outputId": "caa2d7f4-b03e-4375-bdbf-0bd021a08ca4"
      },
      "outputs": [
        {
          "data": {
            "image/png": "[encoded data removed]",
            "text/plain": [
              "<Figure size 640x480 with 1 Axes>"
            ]
          },
          "metadata": {},
          "output_type": "display_data"
        }
      ],
      "source": [
        "import matplotlib.pyplot as plt\n",
        "\n",
        "# Create a dictionary of accuracy scores for each model\n",
        "\n",
        "accuracy_scores = {'LR': test_pred_accuracy, 'DT': dt_acc, 'RF': rf_acc, 'SVM':svm_acc, 'KNN':knn_acc, 'PAC':pac_acc, 'NN':nn_acc,'Xgb':xgb_acc,'Bg':bg_acc, 'NB':nb_acc}\n",
        "\n",
        "# Create a bar chart of the accuracy scores\n",
        "plt.bar(accuracy_scores.keys(), accuracy_scores.values())\n",
        "\n",
        "# Add labels and title to the plot\n",
        "plt.xlabel('Model')\n",
        "plt.ylabel('Accuracy Score')\n",
        "plt.title('Comparison of Models')\n",
        "\n",
        "# Display the plot\n",
        "plt.show()"
      ]
    },
    {
      "attachments": {},
      "cell_type": "markdown",
      "metadata": {},
      "source": [
        "<font size=\"4\">From the above graph it can be noted that DT has the largest accuracy=0.9895</font>"
      ]
    },
    {
      "cell_type": "code",
      "execution_count": 38,
      "metadata": {
        "id": "qFhITiUdAHKC"
      },
      "outputs": [],
      "source": [
        "#statistical testing on the dataset\n",
        "import numpy as np"
      ]
    },
    {
      "cell_type": "code",
      "execution_count": 40,
      "metadata": {
        "colab": {
          "base_uri": "https://localhost:8080/"
        },
        "id": "u7G_uPwB-lgE",
        "outputId": "df47edaf-7b84-4c92-b87d-9d35e41593a4"
      },
      "outputs": [
        {
          "name": "stdout",
          "output_type": "stream",
          "text": [
            "Friedman test\n",
            "--------------\n",
            "F-value:  9.0\n",
            "p-value:  0.43727418891386693\n",
            "There is no significant difference in the performance of the models.\n"
          ]
        }
      ],
      "source": [
        "import scipy.stats as stats\n",
        "\n",
        "models = ['LR', 'DT', 'RF', 'SVM', 'KNN', 'PAC', 'NN', 'Xgb', 'Bg', 'NB']\n",
        "scores = [test_pred_accuracy, dt_acc, rf_acc, svm_acc, knn_acc, pac_acc, nn_acc, xgb_acc, bg_acc, nb_acc]\n",
        "# Convert any scalar values to one-element arrays\n",
        "scores = [np.array([score]) if np.ndim(score) == 0 else score for score in scores]\n",
        "\n",
        "# Perform Friedman test\n",
        "f_value, p_value = stats.friedmanchisquare(*scores)\n",
        "\n",
        "# Print results\n",
        "print(\"Friedman test\")\n",
        "print(\"--------------\")\n",
        "print(\"F-value: \", f_value)\n",
        "print(\"p-value: \", p_value)\n",
        "\n",
        "# Interpret results\n",
        "if p_value < 0.05:\n",
        "    print(\"There is a significant difference in the performance of the models.\")\n",
        "else:\n",
        "    print(\"There is no significant difference in the performance of the models.\")"
      ]
    },
    {
      "cell_type": "code",
      "execution_count": 41,
      "metadata": {},
      "outputs": [
        {
          "name": "stdout",
          "output_type": "stream",
          "text": [
            "Chi-squared test results\n",
            "-------------------------\n",
            "Chi-squared statistic: 0.03307414845339313\n",
            "p-value: 0.9999999998187272\n",
            "There is no significant difference in the test accuracy scores of the models.\n"
          ]
        }
      ],
      "source": [
        "import numpy as np\n",
        "from scipy.stats import chisquare\n",
        "\n",
        "scores = [test_pred_accuracy, dt_acc, rf_acc, svm_acc, knn_acc, pac_acc, nn_acc, xgb_acc, bg_acc, nb_acc]\n",
        "\n",
        "expected_score = np.mean(scores)\n",
        "\n",
        "# Calculate the chi-squared test statistic and p-value\n",
        "chi_stat, p_value = chisquare(scores, f_exp=expected_score)\n",
        "\n",
        "print(\"Chi-squared test results\")\n",
        "print(\"-------------------------\")\n",
        "print(\"Chi-squared statistic:\", chi_stat)\n",
        "print(\"p-value:\", p_value)\n",
        "\n",
        "if p_value < 0.05:\n",
        "    print(\"There is a significant difference in the test accuracy scores of the models.\")\n",
        "else:\n",
        "    print(\"There is no significant difference in the test accuracy scores of the models.\")"
      ]
    },
    {
      "cell_type": "code",
      "execution_count": 42,
      "metadata": {
        "colab": {
          "base_uri": "https://localhost:8080/"
        },
        "id": "zaezKrVe0Tzl",
        "outputId": "f0bc212e-1b2c-48fe-c5b0-a9fc92a157fa"
      },
      "outputs": [
        {
          "name": "stdout",
          "output_type": "stream",
          "text": [
            "Paired t-test results\n",
            "----------------------\n",
            "t-statistic: 0.5251034473154474\n",
            "p-value: 0.6137487244589075\n",
            "There is no significant difference in the test accuracy scores of the models.\n"
          ]
        }
      ],
      "source": [
        "import numpy as np\n",
        "from scipy.stats import ttest_rel\n",
        "\n",
        "scores = [test_pred_accuracy, dt_acc, rf_acc, svm_acc, knn_acc, pac_acc, nn_acc, xgb_acc, bg_acc, nb_acc]\n",
        "\n",
        "# Perform the paired t-test\n",
        "t_stat, p_value = ttest_rel(scores[:-1], scores[1:])\n",
        "\n",
        "print(\"Paired t-test results\")\n",
        "print(\"----------------------\")\n",
        "print(\"t-statistic:\", t_stat)\n",
        "print(\"p-value:\", p_value)\n",
        "\n",
        "if p_value < 0.05:\n",
        "    print(\"There is a significant difference in the test accuracy scores of the models.\")\n",
        "else:\n",
        "    print(\"There is no significant difference in the test accuracy scores of the models.\")"
      ]
    }
  ],
  "metadata": {
    "colab": {
      "provenance": []
    },
    "gpuClass": "standard",
    "kernelspec": {
      "display_name": "Python 3.9.6 64-bit",
      "language": "python",
      "name": "python3"
    },
    "language_info": {
      "codemirror_mode": {
        "name": "ipython",
        "version": 3
      },
      "file_extension": ".py",
      "mimetype": "text/x-python",
      "name": "python",
      "nbconvert_exporter": "python",
      "pygments_lexer": "ipython3",
      "version": "3.9.6"
    },
    "vscode": {
      "interpreter": {
        "hash": "31f2aee4e71d21fbe5cf8b01ff0e069b9275f58929596ceb00d14d90e3e16cd6"
      }
    }
  },
  "nbformat": 4,
  "nbformat_minor": 0
}
